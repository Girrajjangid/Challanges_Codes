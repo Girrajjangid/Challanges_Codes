{
 "cells": [
  {
   "cell_type": "code",
   "execution_count": null,
   "metadata": {},
   "outputs": [],
   "source": [
    "6\n",
    "mary\n",
    "stacy\n",
    "sam\n",
    "samuel\n",
    "sam\n",
    "miguel\n",
    "Sample Output 1\n",
    "\n",
    "m\n",
    "s\n",
    "sa\n",
    "samu\n",
    "sam 2\n",
    "\n",
    "mi"
   ]
  },
  {
   "cell_type": "code",
   "execution_count": null,
   "metadata": {},
   "outputs": [],
   "source": [
    "# return list\n",
    "n = int(input().strip())\n",
    "names = []\n",
    "for _ in range(n):\n",
    "        names_item = input()\n",
    "        names.append(names_item)\n",
    "m\n",
    "s\n",
    "sa\n",
    "samu\n",
    "sam 2\n",
    "mi"
   ]
  },
  {
   "cell_type": "code",
   "execution_count": null,
   "metadata": {},
   "outputs": [],
   "source": [
    "import collections\n",
    "new = []\n",
    "d = dict(collections.Counter(names))\n",
    "for i in range(6):\n",
    "    if names[i] not in new:  \n",
    "        new.append(names[i][0])\n",
    "    else :\n",
    "        print('asf')\n",
    "        new.append(\"{} {}\".format(names[i] , (names.count(names[i]) + 1)))\n",
    "print(\"name \",names)\n",
    "print(\"new \",new)"
   ]
  },
  {
   "cell_type": "code",
   "execution_count": 7,
   "metadata": {},
   "outputs": [
    {
     "name": "stdout",
     "output_type": "stream",
     "text": [
      "valid\n"
     ]
    }
   ],
   "source": [
    "a = \"22A222-61\"\n",
    "l  =['A','E','I','O','U','Y']\n",
    "if a[2] not in l :\n",
    "    if (((int(a[0]) + int(a[1]))%2 ) or ((int(a[3]) + int(a[4]))%2) or ((int(a[4]) + int(a[5]))%2 )  or ((int(a[7]) + int(a[8]))%2 == 0)) : \n",
    "        print('invalid')\n",
    "else :\n",
    "    print(\"valid\")\n"
   ]
  },
  {
   "cell_type": "code",
   "execution_count": 1,
   "metadata": {},
   "outputs": [
    {
     "name": "stdout",
     "output_type": "stream",
     "text": [
      "heelo\n"
     ]
    }
   ],
   "source": [
    "if True or False:\n",
    "    print('heelo')\n",
    "else :\n",
    "    print('asdfasdf')"
   ]
  },
  {
   "cell_type": "code",
   "execution_count": 28,
   "metadata": {},
   "outputs": [
    {
     "name": "stdout",
     "output_type": "stream",
     "text": [
      "3\n"
     ]
    }
   ],
   "source": [
    "#n = 9\n",
    "#10 20 20 10 10 30 50 10 20\n",
    " #3\n",
    "l = [10,20,20,10,10,30,50,10,20]\n",
    "d = {}\n",
    "p = 0\n",
    "for i in l:\n",
    "    if i in d:\n",
    "        d[i] +=1\n",
    "        if d[i]==2:\n",
    "            p += 1\n",
    "            d[i] = 0 \n",
    "    else:\n",
    "        d[i] = 1\n",
    "print(p)"
   ]
  },
  {
   "cell_type": "code",
   "execution_count": 29,
   "metadata": {},
   "outputs": [
    {
     "data": {
      "text/plain": [
       "3"
      ]
     },
     "execution_count": 29,
     "metadata": {},
     "output_type": "execute_result"
    }
   ],
   "source": [
    "def sockMerchant(n, ar):\n",
    "    d ={}\n",
    "    p = 0\n",
    "    for i in ar:\n",
    "        if i in d:\n",
    "            d[i] +=1\n",
    "            if d[i]==2:\n",
    "                p += 1\n",
    "                d[i] = 0 \n",
    "        else:\n",
    "            d[i] = 1\n",
    "    return p\n",
    "sockMerchant(9,[10,20,20,10,10,30,50,10,20])"
   ]
  },
  {
   "cell_type": "code",
   "execution_count": null,
   "metadata": {},
   "outputs": [],
   "source": []
  }
 ],
 "metadata": {
  "kernelspec": {
   "display_name": "Python 3",
   "language": "python",
   "name": "python3"
  },
  "language_info": {
   "codemirror_mode": {
    "name": "ipython",
    "version": 3
   },
   "file_extension": ".py",
   "mimetype": "text/x-python",
   "name": "python",
   "nbconvert_exporter": "python",
   "pygments_lexer": "ipython3",
   "version": "3.6.5"
  }
 },
 "nbformat": 4,
 "nbformat_minor": 2
}
