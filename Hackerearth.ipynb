{
 "cells": [
  {
   "cell_type": "code",
   "execution_count": null,
   "metadata": {},
   "outputs": [],
   "source": [
    "for i in range(int(input())):\n",
    "    x,y = input().split()\n",
    "    x = int(x)\n",
    "    y = int(y)\n",
    "    "
   ]
  },
  {
   "cell_type": "code",
   "execution_count": null,
   "metadata": {},
   "outputs": [],
   "source": [
    "for i in range(int(input())):\n",
    "    x,y = input().split()\n",
    "    x = int(x)\n",
    "    y = int(y)\n",
    "    c = 0\n",
    "    while y < (x*.65) : \n",
    "        p = x*.75\n",
    "        if y<p:\n",
    "            x+=1\n",
    "            y+=1\n",
    "            c+=1\n",
    "    print(c)"
   ]
  },
  {
   "cell_type": "markdown",
   "metadata": {
    "collapsed": true
   },
   "source": [
    "# December circuit"
   ]
  },
  {
   "cell_type": "code",
   "execution_count": 18,
   "metadata": {},
   "outputs": [
    {
     "name": "stdout",
     "output_type": "stream",
     "text": [
      "4\n",
      "10 3\n",
      "Bob\n",
      "14 2\n",
      "Bob\n",
      "18 10\n",
      "Alice\n",
      "37 5\n",
      "Alice\n"
     ]
    }
   ],
   "source": [
    "#4 \n",
    "#10 3\n",
    "#14 2\n",
    "#18 10\n",
    "#37 5\n",
    "#5 9\n",
    "for i in range(int(input())):\n",
    "    n,k = input().split()\n",
    "    n = int(n)\n",
    "    k = int(k)\n",
    "    i = 1\n",
    "    w = ''\n",
    "    if (n-(k**i)) > 0:   #  7 > 0 \n",
    "        while ((n-(k**i)) > 0):\n",
    "            n-=(k**i)     #     7   a\n",
    "            w = 'a'      \n",
    "            if (n-(k**i)) > 0: \n",
    "                n-=(k**i)  #    4   b \n",
    "                w = 'b'\n",
    "            i+=1\n",
    "        if w=='a':\n",
    "            print('Alice')\n",
    "        elif w=='b':\n",
    "            print('Bob')\n",
    "    else :    \n",
    "        print('Bob')\n",
    "        break\n",
    "        "
   ]
  },
  {
   "cell_type": "code",
   "execution_count": null,
   "metadata": {},
   "outputs": [],
   "source": []
  },
  {
   "cell_type": "code",
   "execution_count": null,
   "metadata": {},
   "outputs": [],
   "source": []
  }
 ],
 "metadata": {
  "kernelspec": {
   "display_name": "Python 3",
   "language": "python",
   "name": "python3"
  }
 },
 "nbformat": 4,
 "nbformat_minor": 2
}
