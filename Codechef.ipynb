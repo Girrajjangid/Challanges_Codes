{
 "cells": [
  {
   "cell_type": "code",
   "execution_count": 1,
   "metadata": {},
   "outputs": [
    {
     "name": "stdout",
     "output_type": "stream",
     "text": [
      "1\n",
      "4 5\n",
      "5 7\n",
      "9 10\n",
      "2 3\n",
      "20 30\n",
      "5\n",
      "6\n",
      "7\n",
      "35\n",
      "1\n"
     ]
    }
   ],
   "source": [
    "test = int(input())\n",
    "n,m = input().split()\n",
    "m = int(m)\n",
    "inter = []\n",
    "for i in range(int(n)):\n",
    "    inter.append(list(map(int , input().split())))\n",
    "p = []\n",
    "for i in range(int(m)):\n",
    "    p.append(int(input()))"
   ]
  },
  {
   "cell_type": "code",
   "execution_count": 2,
   "metadata": {},
   "outputs": [
    {
     "name": "stdout",
     "output_type": "stream",
     "text": [
      "[[5, 7], [9, 10], [2, 3], [20, 30]]\n",
      "[5, 6, 7, 35, 1]\n",
      "4 5\n"
     ]
    }
   ],
   "source": [
    "print(inter)\n",
    "print(p)\n",
    "print(n,m)"
   ]
  },
  {
   "cell_type": "code",
   "execution_count": 25,
   "metadata": {},
   "outputs": [
    {
     "name": "stdout",
     "output_type": "stream",
     "text": [
      "1\n",
      "5\n",
      "1 3\n",
      "4 4 \n",
      "1 11\n",
      "8 3 \n",
      "5 5\n",
      "1\n"
     ]
    }
   ],
   "source": [
    "for x in range(int(input())):\n",
    "    c = 0\n",
    "    for i in range(int(input())):\n",
    "        i,j = input().split()\n",
    "        s = int(j) - int(i)\n",
    "        if s > 5:\n",
    "            c = c + 1\n",
    "    print('{}'.format(c))"
   ]
  },
  {
   "cell_type": "code",
   "execution_count": 25,
   "metadata": {},
   "outputs": [
    {
     "name": "stdout",
     "output_type": "stream",
     "text": [
      "5 3 \n",
      "1 2 3 4 5\n",
      "1 1 5 1\n",
      "3\n",
      "3 2 7\n",
      "2 2 4 10\n",
      "36\n"
     ]
    }
   ],
   "source": [
    "from functools import reduce\n",
    "n,qw = input().split()\n",
    "qw = int(qw)\n",
    "q = list(map(int,input().split()))\n",
    "for i in range(qw):\n",
    "    a = (list(map(int,input().split())))\n",
    "    if int(a[0]) == 1:\n",
    "        print(reduce((lambda x,y:x+y) , [q[i] & a[3] for i in range((a[1]-1),a[2])] ))\n",
    "    elif int(a[0])== 3:\n",
    "        q[int(a[1])-1] = a[2]\n",
    "    elif int(a[0]) == 2:\n",
    "        print(reduce((lambda x,y:x+y) , [q[i] ^ a[3] for i in range((a[1]-1),a[2])] ))\n",
    "    \n",
    "    "
   ]
  },
  {
   "cell_type": "code",
   "execution_count": null,
   "metadata": {},
   "outputs": [],
   "source": []
  },
  {
   "cell_type": "code",
   "execution_count": null,
   "metadata": {
    "collapsed": true
   },
   "outputs": [],
   "source": []
  },
  {
   "cell_type": "code",
   "execution_count": null,
   "metadata": {},
   "outputs": [],
   "source": []
  },
  {
   "cell_type": "code",
   "execution_count": null,
   "metadata": {
    "collapsed": true
   },
   "outputs": [],
   "source": []
  }
 ],
 "metadata": {
  "kernelspec": {
   "display_name": "Python 3",
   "language": "python",
   "name": "python3"
  },
  "language_info": {
   "codemirror_mode": {
    "name": "ipython",
    "version": 3
   },
   "file_extension": ".py",
   "mimetype": "text/x-python",
   "name": "python",
   "nbconvert_exporter": "python",
   "pygments_lexer": "ipython3",
   "version": "3.6.3"
  }
 },
 "nbformat": 4,
 "nbformat_minor": 2
}
