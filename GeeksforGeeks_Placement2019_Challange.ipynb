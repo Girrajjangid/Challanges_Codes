{
 "cells": [
  {
   "cell_type": "markdown",
   "metadata": {},
   "source": [
    "Given an integer array of size N. For each element in the array, check whether there exist a smaller element on the next immediate position of the array. If such an element exists, print that element. If there is no smaller element on the immediate next to the element then print -1.\n",
    "\n",
    "Input:\n",
    "The first line of input contains an integer T denoting the number of test cases. T testcases follow. Each testcase contains 2 lines of input:\n",
    "The first line contains an integer N, where N is the size of array.\n",
    "The second line contains N integers(elements of the array) sperated with spaces.\n",
    "\n",
    "Output:\n",
    "For each test case, print the next immediate smaller elements for each element in the array."
   ]
  },
  {
   "cell_type": "code",
   "execution_count": 19,
   "metadata": {},
   "outputs": [
    {
     "name": "stdout",
     "output_type": "stream",
     "text": [
      "0\n"
     ]
    }
   ],
   "source": [
    "n = int(input())\n",
    "for i in range(n):\n",
    "    l = int(input())\n",
    "    ll = list(map( int , input().split()))\n",
    "    q = []\n",
    "    for j in range(len(ll) - 1):\n",
    "        if ll[j] > ll[j+1]:\n",
    "            q.append(ll[j+1])\n",
    "        else:\n",
    "            q.append(-1)\n",
    "    q.append(-1)\n",
    "    print(*q)"
   ]
  }
 ],
 "metadata": {
  "kernelspec": {
   "display_name": "Python 3",
   "language": "python",
   "name": "python3"
  },
  "language_info": {
   "codemirror_mode": {
    "name": "ipython",
    "version": 3
   },
   "file_extension": ".py",
   "mimetype": "text/x-python",
   "name": "python",
   "nbconvert_exporter": "python",
   "pygments_lexer": "ipython3",
   "version": "3.6.5"
  }
 },
 "nbformat": 4,
 "nbformat_minor": 2
}
